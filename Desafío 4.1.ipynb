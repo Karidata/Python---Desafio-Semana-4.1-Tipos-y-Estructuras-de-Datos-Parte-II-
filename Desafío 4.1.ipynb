{
 "cells": [
  {
   "cell_type": "code",
   "execution_count": null,
   "id": "01f6894f-e28e-41a4-be5f-66eae1262cc0",
   "metadata": {},
   "outputs": [],
   "source": [
    "# 1. Cargar el archivo y crear el DataFram"
   ]
  },
  {
   "cell_type": "code",
   "execution_count": 1,
   "id": "63e7f311-6cd2-4ace-add4-84dd714ec10f",
   "metadata": {},
   "outputs": [
    {
     "data": {
      "text/html": [
       "<div>\n",
       "<style scoped>\n",
       "    .dataframe tbody tr th:only-of-type {\n",
       "        vertical-align: middle;\n",
       "    }\n",
       "\n",
       "    .dataframe tbody tr th {\n",
       "        vertical-align: top;\n",
       "    }\n",
       "\n",
       "    .dataframe thead th {\n",
       "        text-align: right;\n",
       "    }\n",
       "</style>\n",
       "<table border=\"1\" class=\"dataframe\">\n",
       "  <thead>\n",
       "    <tr style=\"text-align: right;\">\n",
       "      <th></th>\n",
       "      <th>nombre</th>\n",
       "      <th>edad</th>\n",
       "      <th>peso</th>\n",
       "      <th>altura</th>\n",
       "      <th>evaluacion_fisica</th>\n",
       "      <th>evaluacion_psicologica</th>\n",
       "      <th>evaluacion_adaptativa</th>\n",
       "      <th>evaluacion_medica</th>\n",
       "      <th>anos_experiencia</th>\n",
       "      <th>califica</th>\n",
       "    </tr>\n",
       "  </thead>\n",
       "  <tbody>\n",
       "    <tr>\n",
       "      <th>0</th>\n",
       "      <td>Alana Morillo</td>\n",
       "      <td>32</td>\n",
       "      <td>75</td>\n",
       "      <td>180</td>\n",
       "      <td>93</td>\n",
       "      <td>88</td>\n",
       "      <td>78</td>\n",
       "      <td>89</td>\n",
       "      <td>6</td>\n",
       "      <td>Si</td>\n",
       "    </tr>\n",
       "    <tr>\n",
       "      <th>1</th>\n",
       "      <td>Fátima Tafalla</td>\n",
       "      <td>27</td>\n",
       "      <td>68</td>\n",
       "      <td>167</td>\n",
       "      <td>82</td>\n",
       "      <td>95</td>\n",
       "      <td>81</td>\n",
       "      <td>87</td>\n",
       "      <td>4</td>\n",
       "      <td>Si</td>\n",
       "    </tr>\n",
       "    <tr>\n",
       "      <th>2</th>\n",
       "      <td>Sofía Puig</td>\n",
       "      <td>29</td>\n",
       "      <td>80</td>\n",
       "      <td>185</td>\n",
       "      <td>85</td>\n",
       "      <td>80</td>\n",
       "      <td>90</td>\n",
       "      <td>91</td>\n",
       "      <td>3</td>\n",
       "      <td>Si</td>\n",
       "    </tr>\n",
       "    <tr>\n",
       "      <th>3</th>\n",
       "      <td>Valentina Tasis</td>\n",
       "      <td>30</td>\n",
       "      <td>65</td>\n",
       "      <td>175</td>\n",
       "      <td>90</td>\n",
       "      <td>91</td>\n",
       "      <td>85</td>\n",
       "      <td>92</td>\n",
       "      <td>2</td>\n",
       "      <td>No</td>\n",
       "    </tr>\n",
       "    <tr>\n",
       "      <th>4</th>\n",
       "      <td>Regina Cicerón</td>\n",
       "      <td>31</td>\n",
       "      <td>76</td>\n",
       "      <td>183</td>\n",
       "      <td>89</td>\n",
       "      <td>87</td>\n",
       "      <td>83</td>\n",
       "      <td>90</td>\n",
       "      <td>7</td>\n",
       "      <td>Si</td>\n",
       "    </tr>\n",
       "  </tbody>\n",
       "</table>\n",
       "</div>"
      ],
      "text/plain": [
       "            nombre  edad  peso  altura  evaluacion_fisica  \\\n",
       "0    Alana Morillo    32    75     180                 93   \n",
       "1   Fátima Tafalla    27    68     167                 82   \n",
       "2       Sofía Puig    29    80     185                 85   \n",
       "3  Valentina Tasis    30    65     175                 90   \n",
       "4   Regina Cicerón    31    76     183                 89   \n",
       "\n",
       "   evaluacion_psicologica  evaluacion_adaptativa  evaluacion_medica  \\\n",
       "0                      88                     78                 89   \n",
       "1                      95                     81                 87   \n",
       "2                      80                     90                 91   \n",
       "3                      91                     85                 92   \n",
       "4                      87                     83                 90   \n",
       "\n",
       "   anos_experiencia califica  \n",
       "0                 6       Si  \n",
       "1                 4       Si  \n",
       "2                 3       Si  \n",
       "3                 2       No  \n",
       "4                 7       Si  "
      ]
     },
     "execution_count": 1,
     "metadata": {},
     "output_type": "execute_result"
    }
   ],
   "source": [
    "import pandas as pd\n",
    "\n",
    "df = pd.read_csv(\"resumen_resultados_astronautas.csv\")\n",
    "df.head()"
   ]
  },
  {
   "cell_type": "code",
   "execution_count": null,
   "id": "690ddd71-ae52-4de0-a1d4-c1982b135dea",
   "metadata": {},
   "outputs": [],
   "source": [
    "# 2. Crear columna \"IMC\""
   ]
  },
  {
   "cell_type": "code",
   "execution_count": 2,
   "id": "6041182e-3b52-4a6b-ac94-1d9e914e6bfb",
   "metadata": {},
   "outputs": [],
   "source": [
    "df[\"altura_m\"] = df[\"altura\"] / 100  # Convertimos cm a metros\n",
    "df[\"IMC\"] = df[\"peso\"] / (df[\"altura_m\"] ** 2)"
   ]
  },
  {
   "cell_type": "code",
   "execution_count": null,
   "id": "70199bdf-61d7-4d9d-8125-a9237c37220a",
   "metadata": {},
   "outputs": [],
   "source": [
    "# 3. Crear columna \"promedio_evaluaciones\""
   ]
  },
  {
   "cell_type": "code",
   "execution_count": 4,
   "id": "af8f0172-03ff-4f45-87d8-494b22b1f9d4",
   "metadata": {},
   "outputs": [
    {
     "name": "stdout",
     "output_type": "stream",
     "text": [
      "Columnas actuales del DataFrame:\n",
      "Index(['nombre', 'edad', 'peso', 'altura', 'evaluacion_fisica',\n",
      "       'evaluacion_psicologica', 'evaluacion_adaptativa', 'evaluacion_medica',\n",
      "       'anos_experiencia', 'califica', 'altura_m', 'IMC',\n",
      "       'promedio_evaluaciones'],\n",
      "      dtype='object')\n",
      "\n",
      "Primeras filas con la nueva columna:\n"
     ]
    },
    {
     "data": {
      "text/html": [
       "<div>\n",
       "<style scoped>\n",
       "    .dataframe tbody tr th:only-of-type {\n",
       "        vertical-align: middle;\n",
       "    }\n",
       "\n",
       "    .dataframe tbody tr th {\n",
       "        vertical-align: top;\n",
       "    }\n",
       "\n",
       "    .dataframe thead th {\n",
       "        text-align: right;\n",
       "    }\n",
       "</style>\n",
       "<table border=\"1\" class=\"dataframe\">\n",
       "  <thead>\n",
       "    <tr style=\"text-align: right;\">\n",
       "      <th></th>\n",
       "      <th>nombre</th>\n",
       "      <th>promedio_evaluaciones</th>\n",
       "    </tr>\n",
       "  </thead>\n",
       "  <tbody>\n",
       "    <tr>\n",
       "      <th>0</th>\n",
       "      <td>Alana Morillo</td>\n",
       "      <td>87.00</td>\n",
       "    </tr>\n",
       "    <tr>\n",
       "      <th>1</th>\n",
       "      <td>Fátima Tafalla</td>\n",
       "      <td>86.25</td>\n",
       "    </tr>\n",
       "    <tr>\n",
       "      <th>2</th>\n",
       "      <td>Sofía Puig</td>\n",
       "      <td>86.50</td>\n",
       "    </tr>\n",
       "    <tr>\n",
       "      <th>3</th>\n",
       "      <td>Valentina Tasis</td>\n",
       "      <td>89.50</td>\n",
       "    </tr>\n",
       "    <tr>\n",
       "      <th>4</th>\n",
       "      <td>Regina Cicerón</td>\n",
       "      <td>87.25</td>\n",
       "    </tr>\n",
       "  </tbody>\n",
       "</table>\n",
       "</div>"
      ],
      "text/plain": [
       "            nombre  promedio_evaluaciones\n",
       "0    Alana Morillo                  87.00\n",
       "1   Fátima Tafalla                  86.25\n",
       "2       Sofía Puig                  86.50\n",
       "3  Valentina Tasis                  89.50\n",
       "4   Regina Cicerón                  87.25"
      ]
     },
     "execution_count": 4,
     "metadata": {},
     "output_type": "execute_result"
    }
   ],
   "source": [
    "# Paso 3: Crear la columna con el promedio de las 4 evaluaciones\n",
    "columnas_eval = [\n",
    "    \"evaluacion_fisica\",\n",
    "    \"evaluacion_psicologica\",\n",
    "    \"evaluacion_adaptativa\",\n",
    "    \"evaluacion_medica\"\n",
    "]\n",
    "\n",
    "df[\"promedio_evaluaciones\"] = df[columnas_eval].mean(axis=1)\n",
    "\n",
    "# Verificamos que la columna se creó correctamente\n",
    "print(\"Columnas actuales del DataFrame:\")\n",
    "print(df.columns)\n",
    "\n",
    "print(\"\\nPrimeras filas con la nueva columna:\")\n",
    "df[[\"nombre\", \"promedio_evaluaciones\"]].head()"
   ]
  },
  {
   "cell_type": "code",
   "execution_count": null,
   "id": "fe838fd4-d3dd-470c-9018-6a2aa1e3c955",
   "metadata": {},
   "outputs": [],
   "source": [
    "# 4. Filtrar por IMC adecuado (18.5 a 24.9)"
   ]
  },
  {
   "cell_type": "code",
   "execution_count": 6,
   "id": "40d78361-3aab-4d02-846d-14fe8b224bf2",
   "metadata": {},
   "outputs": [
    {
     "data": {
      "text/html": [
       "<div>\n",
       "<style scoped>\n",
       "    .dataframe tbody tr th:only-of-type {\n",
       "        vertical-align: middle;\n",
       "    }\n",
       "\n",
       "    .dataframe tbody tr th {\n",
       "        vertical-align: top;\n",
       "    }\n",
       "\n",
       "    .dataframe thead th {\n",
       "        text-align: right;\n",
       "    }\n",
       "</style>\n",
       "<table border=\"1\" class=\"dataframe\">\n",
       "  <thead>\n",
       "    <tr style=\"text-align: right;\">\n",
       "      <th></th>\n",
       "      <th>nombre</th>\n",
       "      <th>IMC</th>\n",
       "    </tr>\n",
       "  </thead>\n",
       "  <tbody>\n",
       "    <tr>\n",
       "      <th>0</th>\n",
       "      <td>Alana Morillo</td>\n",
       "      <td>23.148148</td>\n",
       "    </tr>\n",
       "    <tr>\n",
       "      <th>1</th>\n",
       "      <td>Fátima Tafalla</td>\n",
       "      <td>24.382373</td>\n",
       "    </tr>\n",
       "    <tr>\n",
       "      <th>2</th>\n",
       "      <td>Sofía Puig</td>\n",
       "      <td>23.374726</td>\n",
       "    </tr>\n",
       "    <tr>\n",
       "      <th>3</th>\n",
       "      <td>Valentina Tasis</td>\n",
       "      <td>21.224490</td>\n",
       "    </tr>\n",
       "    <tr>\n",
       "      <th>4</th>\n",
       "      <td>Regina Cicerón</td>\n",
       "      <td>22.694019</td>\n",
       "    </tr>\n",
       "  </tbody>\n",
       "</table>\n",
       "</div>"
      ],
      "text/plain": [
       "            nombre        IMC\n",
       "0    Alana Morillo  23.148148\n",
       "1   Fátima Tafalla  24.382373\n",
       "2       Sofía Puig  23.374726\n",
       "3  Valentina Tasis  21.224490\n",
       "4   Regina Cicerón  22.694019"
      ]
     },
     "execution_count": 6,
     "metadata": {},
     "output_type": "execute_result"
    }
   ],
   "source": [
    "# Filtrar astronautas con IMC entre 18.5 y 24.9\n",
    "df_imc_ok = df[(df[\"IMC\"] >= 18.5) & (df[\"IMC\"] <= 24.9)]\n",
    "\n",
    "# Mostrar las primeras filas del resultado\n",
    "df_imc_ok[[\"nombre\", \"IMC\"]].head()"
   ]
  },
  {
   "cell_type": "code",
   "execution_count": null,
   "id": "f12c7874-626b-46e4-9479-3a4e6a03a30f",
   "metadata": {},
   "outputs": [],
   "source": [
    "# 5. Filtrar por promedio de evaluaciones ≥ 87"
   ]
  },
  {
   "cell_type": "code",
   "execution_count": 8,
   "id": "6fb07eed-38b6-4610-88a5-4a68cc8dda7b",
   "metadata": {},
   "outputs": [
    {
     "data": {
      "text/html": [
       "<div>\n",
       "<style scoped>\n",
       "    .dataframe tbody tr th:only-of-type {\n",
       "        vertical-align: middle;\n",
       "    }\n",
       "\n",
       "    .dataframe tbody tr th {\n",
       "        vertical-align: top;\n",
       "    }\n",
       "\n",
       "    .dataframe thead th {\n",
       "        text-align: right;\n",
       "    }\n",
       "</style>\n",
       "<table border=\"1\" class=\"dataframe\">\n",
       "  <thead>\n",
       "    <tr style=\"text-align: right;\">\n",
       "      <th></th>\n",
       "      <th>nombre</th>\n",
       "      <th>IMC</th>\n",
       "      <th>promedio_evaluaciones</th>\n",
       "    </tr>\n",
       "  </thead>\n",
       "  <tbody>\n",
       "    <tr>\n",
       "      <th>0</th>\n",
       "      <td>Alana Morillo</td>\n",
       "      <td>23.148148</td>\n",
       "      <td>87.00</td>\n",
       "    </tr>\n",
       "    <tr>\n",
       "      <th>3</th>\n",
       "      <td>Valentina Tasis</td>\n",
       "      <td>21.224490</td>\n",
       "      <td>89.50</td>\n",
       "    </tr>\n",
       "    <tr>\n",
       "      <th>4</th>\n",
       "      <td>Regina Cicerón</td>\n",
       "      <td>22.694019</td>\n",
       "      <td>87.25</td>\n",
       "    </tr>\n",
       "    <tr>\n",
       "      <th>6</th>\n",
       "      <td>María Juderías</td>\n",
       "      <td>23.547881</td>\n",
       "      <td>88.00</td>\n",
       "    </tr>\n",
       "    <tr>\n",
       "      <th>8</th>\n",
       "      <td>Consuela Arboleda</td>\n",
       "      <td>21.785876</td>\n",
       "      <td>89.75</td>\n",
       "    </tr>\n",
       "  </tbody>\n",
       "</table>\n",
       "</div>"
      ],
      "text/plain": [
       "              nombre        IMC  promedio_evaluaciones\n",
       "0      Alana Morillo  23.148148                  87.00\n",
       "3    Valentina Tasis  21.224490                  89.50\n",
       "4     Regina Cicerón  22.694019                  87.25\n",
       "6     María Juderías  23.547881                  88.00\n",
       "8  Consuela Arboleda  21.785876                  89.75"
      ]
     },
     "execution_count": 8,
     "metadata": {},
     "output_type": "execute_result"
    }
   ],
   "source": [
    "# Filtrar astronautas con IMC adecuado y promedio de evaluaciones ≥ 87\n",
    "df_filtrado = df[\n",
    "    (df[\"IMC\"] >= 18.5) & \n",
    "    (df[\"IMC\"] <= 24.9) & \n",
    "    (df[\"promedio_evaluaciones\"] >= 87)\n",
    "]\n",
    "\n",
    "# Mostrar los primeros resultados\n",
    "df_filtrado[[\"nombre\", \"IMC\", \"promedio_evaluaciones\"]].head()"
   ]
  },
  {
   "cell_type": "code",
   "execution_count": null,
   "id": "2212c518-b978-4082-96ef-4c2aaafd454d",
   "metadata": {},
   "outputs": [],
   "source": [
    "# 6. Reiniciar el índice del DataFrame"
   ]
  },
  {
   "cell_type": "code",
   "execution_count": 9,
   "id": "290174f9-7c2b-4350-b501-3741050da3dc",
   "metadata": {},
   "outputs": [
    {
     "data": {
      "text/html": [
       "<div>\n",
       "<style scoped>\n",
       "    .dataframe tbody tr th:only-of-type {\n",
       "        vertical-align: middle;\n",
       "    }\n",
       "\n",
       "    .dataframe tbody tr th {\n",
       "        vertical-align: top;\n",
       "    }\n",
       "\n",
       "    .dataframe thead th {\n",
       "        text-align: right;\n",
       "    }\n",
       "</style>\n",
       "<table border=\"1\" class=\"dataframe\">\n",
       "  <thead>\n",
       "    <tr style=\"text-align: right;\">\n",
       "      <th></th>\n",
       "      <th>nombre</th>\n",
       "      <th>IMC</th>\n",
       "      <th>promedio_evaluaciones</th>\n",
       "    </tr>\n",
       "  </thead>\n",
       "  <tbody>\n",
       "    <tr>\n",
       "      <th>0</th>\n",
       "      <td>Alana Morillo</td>\n",
       "      <td>23.148148</td>\n",
       "      <td>87.00</td>\n",
       "    </tr>\n",
       "    <tr>\n",
       "      <th>1</th>\n",
       "      <td>Valentina Tasis</td>\n",
       "      <td>21.224490</td>\n",
       "      <td>89.50</td>\n",
       "    </tr>\n",
       "    <tr>\n",
       "      <th>2</th>\n",
       "      <td>Regina Cicerón</td>\n",
       "      <td>22.694019</td>\n",
       "      <td>87.25</td>\n",
       "    </tr>\n",
       "    <tr>\n",
       "      <th>3</th>\n",
       "      <td>María Juderías</td>\n",
       "      <td>23.547881</td>\n",
       "      <td>88.00</td>\n",
       "    </tr>\n",
       "    <tr>\n",
       "      <th>4</th>\n",
       "      <td>Consuela Arboleda</td>\n",
       "      <td>21.785876</td>\n",
       "      <td>89.75</td>\n",
       "    </tr>\n",
       "  </tbody>\n",
       "</table>\n",
       "</div>"
      ],
      "text/plain": [
       "              nombre        IMC  promedio_evaluaciones\n",
       "0      Alana Morillo  23.148148                  87.00\n",
       "1    Valentina Tasis  21.224490                  89.50\n",
       "2     Regina Cicerón  22.694019                  87.25\n",
       "3     María Juderías  23.547881                  88.00\n",
       "4  Consuela Arboleda  21.785876                  89.75"
      ]
     },
     "execution_count": 9,
     "metadata": {},
     "output_type": "execute_result"
    }
   ],
   "source": [
    "df_filtrado.reset_index(drop=True, inplace=True)\n",
    "\n",
    "# Mostrar los primeros resultados para validar\n",
    "df_filtrado[[\"nombre\", \"IMC\", \"promedio_evaluaciones\"]].head()"
   ]
  },
  {
   "cell_type": "code",
   "execution_count": null,
   "id": "74cdb567-e079-4c31-91df-05b2c87f0b58",
   "metadata": {},
   "outputs": [],
   "source": [
    "# 7. Modificar la columna \"califica\" para que diga \"si\" en todas las filas"
   ]
  },
  {
   "cell_type": "code",
   "execution_count": 11,
   "id": "b286c580-b420-4a85-ab85-911d973dc338",
   "metadata": {},
   "outputs": [
    {
     "data": {
      "text/html": [
       "<div>\n",
       "<style scoped>\n",
       "    .dataframe tbody tr th:only-of-type {\n",
       "        vertical-align: middle;\n",
       "    }\n",
       "\n",
       "    .dataframe tbody tr th {\n",
       "        vertical-align: top;\n",
       "    }\n",
       "\n",
       "    .dataframe thead th {\n",
       "        text-align: right;\n",
       "    }\n",
       "</style>\n",
       "<table border=\"1\" class=\"dataframe\">\n",
       "  <thead>\n",
       "    <tr style=\"text-align: right;\">\n",
       "      <th></th>\n",
       "      <th>nombre</th>\n",
       "      <th>califica</th>\n",
       "    </tr>\n",
       "  </thead>\n",
       "  <tbody>\n",
       "    <tr>\n",
       "      <th>0</th>\n",
       "      <td>Alana Morillo</td>\n",
       "      <td>Si</td>\n",
       "    </tr>\n",
       "    <tr>\n",
       "      <th>1</th>\n",
       "      <td>Valentina Tasis</td>\n",
       "      <td>Si</td>\n",
       "    </tr>\n",
       "    <tr>\n",
       "      <th>2</th>\n",
       "      <td>Regina Cicerón</td>\n",
       "      <td>Si</td>\n",
       "    </tr>\n",
       "    <tr>\n",
       "      <th>3</th>\n",
       "      <td>María Juderías</td>\n",
       "      <td>Si</td>\n",
       "    </tr>\n",
       "    <tr>\n",
       "      <th>4</th>\n",
       "      <td>Consuela Arboleda</td>\n",
       "      <td>Si</td>\n",
       "    </tr>\n",
       "  </tbody>\n",
       "</table>\n",
       "</div>"
      ],
      "text/plain": [
       "              nombre califica\n",
       "0      Alana Morillo       Si\n",
       "1    Valentina Tasis       Si\n",
       "2     Regina Cicerón       Si\n",
       "3     María Juderías       Si\n",
       "4  Consuela Arboleda       Si"
      ]
     },
     "execution_count": 11,
     "metadata": {},
     "output_type": "execute_result"
    }
   ],
   "source": [
    "# Aseguramos que df_filtrado sea una copia independiente\n",
    "df_filtrado = df_filtrado.copy()\n",
    "\n",
    "# Modificamos la columna 'califica' de forma segura\n",
    "df_filtrado.loc[:, \"califica\"] = \"Si\"\n",
    "\n",
    "# Verificamos visualmente\n",
    "df_filtrado[[\"nombre\", \"califica\"]].head()"
   ]
  },
  {
   "cell_type": "code",
   "execution_count": null,
   "id": "79106df7-9797-475a-8916-e83a011ff795",
   "metadata": {},
   "outputs": [],
   "source": [
    "# 8. Exportar el DataFrame a un archivo CSV"
   ]
  },
  {
   "cell_type": "code",
   "execution_count": 12,
   "id": "7a9f5007-c6cb-4104-923c-ba365c27820a",
   "metadata": {},
   "outputs": [
    {
     "name": "stdout",
     "output_type": "stream",
     "text": [
      "Archivo 'astronautas_calificados.csv' exportado correctamente.\n"
     ]
    }
   ],
   "source": [
    "df_filtrado.to_csv(\"astronautas_calificados.csv\", index=False)\n",
    "\n",
    "# Confirmación textual\n",
    "print(\"Archivo 'astronautas_calificados.csv' exportado correctamente.\")"
   ]
  },
  {
   "cell_type": "code",
   "execution_count": null,
   "id": "bfdd85a8-2abe-4bc9-a8b2-2df43f9542ab",
   "metadata": {},
   "outputs": [],
   "source": []
  }
 ],
 "metadata": {
  "kernelspec": {
   "display_name": "Python 3 (ipykernel)",
   "language": "python",
   "name": "python3"
  },
  "language_info": {
   "codemirror_mode": {
    "name": "ipython",
    "version": 3
   },
   "file_extension": ".py",
   "mimetype": "text/x-python",
   "name": "python",
   "nbconvert_exporter": "python",
   "pygments_lexer": "ipython3",
   "version": "3.13.5"
  }
 },
 "nbformat": 4,
 "nbformat_minor": 5
}
